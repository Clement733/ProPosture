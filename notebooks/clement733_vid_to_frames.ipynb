{
 "cells": [
  {
   "cell_type": "code",
   "execution_count": 1,
   "metadata": {},
   "outputs": [],
   "source": [
    "import cv2\n",
    "import os"
   ]
  },
  {
   "cell_type": "code",
   "execution_count": null,
   "metadata": {},
   "outputs": [],
   "source": [
    "\n",
    "\n",
    "video = cv2.VideoCapture('../media/clement_pd.mp4')\n",
    "output_dir = '../media/fitness_poses_images_in/pushups_down/'\n",
    "\n",
    "success, frame = video.read()\n",
    "frame_count = 0\n",
    "\n",
    "while success:\n",
    "    # Create the complete file path including the filename\n",
    "    output_path = os.path.join(output_dir, f'frame_{frame_count}.jpg')\n",
    "\n",
    "    # Save the frame using the complete file path\n",
    "    cv2.imwrite(output_path, frame)\n",
    "\n",
    "    success, frame = video.read()\n",
    "    frame_count += 1\n",
    "\n",
    "video.release()"
   ]
  },
  {
   "cell_type": "code",
   "execution_count": null,
   "metadata": {},
   "outputs": [],
   "source": [
    "video = cv2.VideoCapture('../media/justin_pu.mp4')\n",
    "output_dir = '../media/fitness_poses_images_in/pushups_up/'\n",
    "\n",
    "success, frame = video.read()\n",
    "frame_count = 0\n",
    "\n",
    "while success:\n",
    "    # Create the complete file path including the filename\n",
    "    output_path = os.path.join(output_dir, f'frame_{frame_count}.jpg')\n",
    "\n",
    "    # Save the frame using the complete file path\n",
    "    cv2.imwrite(output_path, frame)\n",
    "\n",
    "    success, frame = video.read()\n",
    "    frame_count += 1\n",
    "\n",
    "video.release()"
   ]
  }
 ],
 "metadata": {
  "kernelspec": {
   "display_name": "proposture_env",
   "language": "python",
   "name": "python3"
  },
  "language_info": {
   "codemirror_mode": {
    "name": "ipython",
    "version": 3
   },
   "file_extension": ".py",
   "mimetype": "text/x-python",
   "name": "python",
   "nbconvert_exporter": "python",
   "pygments_lexer": "ipython3",
   "version": "3.10.6"
  },
  "orig_nbformat": 4
 },
 "nbformat": 4,
 "nbformat_minor": 2
}
